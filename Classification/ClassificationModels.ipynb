{
  "nbformat": 4,
  "nbformat_minor": 0,
  "metadata": {
    "colab": {
      "provenance": [],
      "gpuType": "T4",
      "toc_visible": true
    },
    "kernelspec": {
      "name": "python3",
      "display_name": "Python 3"
    },
    "language_info": {
      "name": "python"
    },
    "accelerator": "GPU",
    "gpuClass": "standard"
  },
  "cells": [
    {
      "cell_type": "markdown",
      "source": [
        "# **CSA4020 - Deep Learning<br>Assignment - Classification**\n",
        "\n"
      ],
      "metadata": {
        "id": "mH2bhQQUOoiV"
      }
    },
    {
      "cell_type": "markdown",
      "source": [
        "# Dataset Used: MNIST\n",
        "\n"
      ],
      "metadata": {
        "id": "5KJwlhq0OUsY"
      }
    },
    {
      "cell_type": "code",
      "execution_count": 1,
      "metadata": {
        "id": "64JjG3vMN_xS"
      },
      "outputs": [],
      "source": [
        "import tensorflow as tf\n",
        "import numpy as np\n",
        "import matplotlib.pyplot as plt\n",
        "from keras.layers import Dense, Flatten\n",
        "from keras.models import Sequential\n",
        "from keras.utils import to_categorical"
      ]
    },
    {
      "cell_type": "markdown",
      "source": [
        "# Model 1: Simple Neural Network"
      ],
      "metadata": {
        "id": "P1UZ6B0XOXYp"
      }
    },
    {
      "cell_type": "code",
      "source": [
        "(x, y), (X, Y) = tf.keras.datasets.mnist.load_data()\n",
        "\n",
        "X_train = x\n",
        "y_train = y\n",
        "X_test = X\n",
        "y_test = Y"
      ],
      "metadata": {
        "id": "DDLwfxAGO-uU",
        "colab": {
          "base_uri": "https://localhost:8080/"
        },
        "outputId": "15c5fd06-b540-4395-cfe9-8e0069cf3156"
      },
      "execution_count": 2,
      "outputs": [
        {
          "output_type": "stream",
          "name": "stdout",
          "text": [
            "Downloading data from https://storage.googleapis.com/tensorflow/tf-keras-datasets/mnist.npz\n",
            "11490434/11490434 [==============================] - 0s 0us/step\n"
          ]
        }
      ]
    },
    {
      "cell_type": "code",
      "source": [
        "# Convert y_train into one-hot format\n",
        "temp = []\n",
        "for i in range(len(y_train)):\n",
        "    temp.append(to_categorical(y_train[i], num_classes=10))\n",
        "y_train = np.array(temp)# Convert y_test into one-hot format\n",
        "temp = []\n",
        "for i in range(len(y_test)):\n",
        "    temp.append(to_categorical(y_test[i], num_classes=10))\n",
        "y_test = np.array(temp)"
      ],
      "metadata": {
        "id": "ijlLXVhOOW7M"
      },
      "execution_count": 3,
      "outputs": []
    },
    {
      "cell_type": "code",
      "source": [
        "# Create simple Neural Network model\n",
        "model = Sequential()\n",
        "model.add(Flatten(input_shape=(28,28)))\n",
        "model.add(Dense(5, activation='sigmoid'))\n",
        "model.add(Dense(10, activation='softmax'))"
      ],
      "metadata": {
        "id": "xuPCsGEEPK3q"
      },
      "execution_count": 4,
      "outputs": []
    },
    {
      "cell_type": "code",
      "source": [
        "model.summary()"
      ],
      "metadata": {
        "colab": {
          "base_uri": "https://localhost:8080/"
        },
        "id": "MPmQKod7POOO",
        "outputId": "1d2fe57a-f1fc-4e36-c89d-c61bf8dfc779"
      },
      "execution_count": 5,
      "outputs": [
        {
          "output_type": "stream",
          "name": "stdout",
          "text": [
            "Model: \"sequential\"\n",
            "_________________________________________________________________\n",
            " Layer (type)                Output Shape              Param #   \n",
            "=================================================================\n",
            " flatten (Flatten)           (None, 784)               0         \n",
            "                                                                 \n",
            " dense (Dense)               (None, 5)                 3925      \n",
            "                                                                 \n",
            " dense_1 (Dense)             (None, 10)                60        \n",
            "                                                                 \n",
            "=================================================================\n",
            "Total params: 3,985\n",
            "Trainable params: 3,985\n",
            "Non-trainable params: 0\n",
            "_________________________________________________________________\n"
          ]
        }
      ]
    },
    {
      "cell_type": "code",
      "source": [
        "model.compile(loss='categorical_crossentropy', optimizer='adam', metrics=['acc'])"
      ],
      "metadata": {
        "id": "EoS-F4s5PPtS"
      },
      "execution_count": 6,
      "outputs": []
    },
    {
      "cell_type": "code",
      "source": [
        "history = model.fit(X_train, y_train, epochs=24, validation_data=(X_test,y_test))"
      ],
      "metadata": {
        "colab": {
          "base_uri": "https://localhost:8080/"
        },
        "id": "HpWx8hF8PTlr",
        "outputId": "3f5e7a53-bde4-4907-d52a-5ed37318e722"
      },
      "execution_count": 7,
      "outputs": [
        {
          "output_type": "stream",
          "name": "stdout",
          "text": [
            "Epoch 1/24\n",
            "1875/1875 [==============================] - 16s 4ms/step - loss: 1.5433 - acc: 0.5832 - val_loss: 1.1405 - val_acc: 0.7393\n",
            "Epoch 2/24\n",
            "1875/1875 [==============================] - 6s 3ms/step - loss: 1.0253 - acc: 0.7257 - val_loss: 0.9354 - val_acc: 0.7233\n",
            "Epoch 3/24\n",
            "1875/1875 [==============================] - 6s 3ms/step - loss: 0.8823 - acc: 0.7488 - val_loss: 0.8897 - val_acc: 0.7345\n",
            "Epoch 4/24\n",
            "1875/1875 [==============================] - 6s 3ms/step - loss: 0.8253 - acc: 0.7594 - val_loss: 0.8111 - val_acc: 0.7636\n",
            "Epoch 5/24\n",
            "1875/1875 [==============================] - 5s 3ms/step - loss: 0.7941 - acc: 0.7596 - val_loss: 0.7216 - val_acc: 0.7901\n",
            "Epoch 6/24\n",
            "1875/1875 [==============================] - 6s 3ms/step - loss: 0.7868 - acc: 0.7625 - val_loss: 0.7156 - val_acc: 0.7766\n",
            "Epoch 7/24\n",
            "1875/1875 [==============================] - 5s 3ms/step - loss: 0.7544 - acc: 0.7743 - val_loss: 0.7214 - val_acc: 0.7856\n",
            "Epoch 8/24\n",
            "1875/1875 [==============================] - 6s 3ms/step - loss: 0.7361 - acc: 0.7795 - val_loss: 0.7620 - val_acc: 0.7499\n",
            "Epoch 9/24\n",
            "1875/1875 [==============================] - 5s 3ms/step - loss: 0.7342 - acc: 0.7822 - val_loss: 0.7080 - val_acc: 0.7959\n",
            "Epoch 10/24\n",
            "1875/1875 [==============================] - 6s 3ms/step - loss: 0.7156 - acc: 0.7988 - val_loss: 0.6737 - val_acc: 0.8149\n",
            "Epoch 11/24\n",
            "1875/1875 [==============================] - 5s 3ms/step - loss: 0.7262 - acc: 0.7900 - val_loss: 0.7661 - val_acc: 0.7591\n",
            "Epoch 12/24\n",
            "1875/1875 [==============================] - 6s 3ms/step - loss: 0.7145 - acc: 0.7928 - val_loss: 0.7706 - val_acc: 0.7799\n",
            "Epoch 13/24\n",
            "1875/1875 [==============================] - 6s 3ms/step - loss: 0.7292 - acc: 0.7883 - val_loss: 0.7079 - val_acc: 0.7899\n",
            "Epoch 14/24\n",
            "1875/1875 [==============================] - 8s 4ms/step - loss: 0.7174 - acc: 0.7920 - val_loss: 0.6748 - val_acc: 0.8151\n",
            "Epoch 15/24\n",
            "1875/1875 [==============================] - 6s 3ms/step - loss: 0.6963 - acc: 0.8030 - val_loss: 0.6793 - val_acc: 0.8054\n",
            "Epoch 16/24\n",
            "1875/1875 [==============================] - 6s 3ms/step - loss: 0.7033 - acc: 0.8035 - val_loss: 0.7180 - val_acc: 0.8018\n",
            "Epoch 17/24\n",
            "1875/1875 [==============================] - 6s 3ms/step - loss: 0.6910 - acc: 0.8026 - val_loss: 0.7075 - val_acc: 0.7896\n",
            "Epoch 18/24\n",
            "1875/1875 [==============================] - 5s 3ms/step - loss: 0.6982 - acc: 0.8063 - val_loss: 0.6940 - val_acc: 0.8168\n",
            "Epoch 19/24\n",
            "1875/1875 [==============================] - 7s 4ms/step - loss: 0.6852 - acc: 0.8119 - val_loss: 0.7291 - val_acc: 0.7996\n",
            "Epoch 20/24\n",
            "1875/1875 [==============================] - 11s 6ms/step - loss: 0.6780 - acc: 0.8104 - val_loss: 0.6771 - val_acc: 0.8168\n",
            "Epoch 21/24\n",
            "1875/1875 [==============================] - 5s 3ms/step - loss: 0.6764 - acc: 0.8193 - val_loss: 0.6490 - val_acc: 0.8324\n",
            "Epoch 22/24\n",
            "1875/1875 [==============================] - 6s 3ms/step - loss: 0.6644 - acc: 0.8192 - val_loss: 0.7462 - val_acc: 0.7835\n",
            "Epoch 23/24\n",
            "1875/1875 [==============================] - 8s 4ms/step - loss: 0.6651 - acc: 0.8162 - val_loss: 0.6336 - val_acc: 0.8275\n",
            "Epoch 24/24\n",
            "1875/1875 [==============================] - 8s 4ms/step - loss: 0.6630 - acc: 0.8150 - val_loss: 0.6211 - val_acc: 0.8323\n"
          ]
        }
      ]
    },
    {
      "cell_type": "code",
      "source": [
        "predictions = np.argmax(model.predict(X_test), axis=1)\n",
        "\n",
        "fig, axes = plt.subplots(ncols=10, sharex=False, sharey=True, figsize=(20, 4))\n",
        "\n",
        "for i in range(10):\n",
        "    axes[i].set_title(predictions[i])\n",
        "    axes[i].imshow(X_test[i], cmap='gray')\n",
        "    axes[i].get_xaxis().set_visible(False)\n",
        "    axes[i].get_yaxis().set_visible(False)\n",
        "plt.show()"
      ],
      "metadata": {
        "colab": {
          "base_uri": "https://localhost:8080/",
          "height": 159
        },
        "id": "o0pPT4yMPcpr",
        "outputId": "26021467-96e1-4fab-d121-17b1440c8d95"
      },
      "execution_count": 8,
      "outputs": [
        {
          "output_type": "stream",
          "name": "stdout",
          "text": [
            "313/313 [==============================] - 1s 1ms/step\n"
          ]
        },
        {
          "output_type": "display_data",
          "data": {
            "text/plain": [
              "<Figure size 2000x400 with 10 Axes>"
            ],
            "image/png": "[encoded data removed]"
          },
          "metadata": {}
        }
      ]
    },
    {
      "cell_type": "code",
      "source": [
        "model.evaluate(X_test, y_test)"
      ],
      "metadata": {
        "colab": {
          "base_uri": "https://localhost:8080/"
        },
        "id": "jfne0YRIPtDr",
        "outputId": "2861a70d-ae0e-4c0e-aea5-4b74a7a635c0"
      },
      "execution_count": 9,
      "outputs": [
        {
          "output_type": "stream",
          "name": "stdout",
          "text": [
            "313/313 [==============================] - 1s 2ms/step - loss: 0.6211 - acc: 0.8323\n"
          ]
        },
        {
          "output_type": "execute_result",
          "data": {
            "text/plain": [
              "[0.6210894584655762, 0.8323000073432922]"
            ]
          },
          "metadata": {},
          "execution_count": 9
        }
      ]
    },
    {
      "cell_type": "code",
      "source": [
        "acc1 = history.history['acc']\n",
        "val_acc = history.history['val_acc']\n",
        "loss = history.history['loss']\n",
        "val_loss = history.history['val_loss']"
      ],
      "metadata": {
        "id": "D49xaZKujvep"
      },
      "execution_count": 10,
      "outputs": []
    },
    {
      "cell_type": "code",
      "source": [
        "epochs = range(1, len(acc1) + 1)\n",
        "\n",
        "plt.plot(epochs, acc1, label='Training acc')\n",
        "plt.plot(epochs, val_acc, label='Validation acc')\n",
        "plt.plot(epochs, loss, label='Training loss')\n",
        "plt.plot(epochs, val_loss, label='Validation loss')\n",
        "plt.title('Accuracy and Loss for Training and Validation')\n",
        "plt.xlabel('epoch')\n",
        "plt.legend()\n",
        "\n",
        "plt.show()"
      ],
      "metadata": {
        "colab": {
          "base_uri": "https://localhost:8080/",
          "height": 472
        },
        "id": "awuL7UxQk2vT",
        "outputId": "d1b272db-3666-45d5-87f4-f10cc621e3ba"
      },
      "execution_count": 11,
      "outputs": [
        {
          "output_type": "display_data",
          "data": {
            "text/plain": [
              "<Figure size 640x480 with 1 Axes>"
            ],
            "image/png": "[encoded data removed]"
          },
          "metadata": {}
        }
      ]
    },
    {
      "cell_type": "markdown",
      "source": [
        "# Model 2: CNN"
      ],
      "metadata": {
        "id": "D0vjtuGrQdT7"
      }
    },
    {
      "cell_type": "code",
      "source": [
        "x_train = x\n",
        "x_test = X\n",
        "y_train = y\n",
        "y_test = Y\n",
        "\n",
        "# Reshaping the array to 4-dims so that it can work with the Keras API\n",
        "x_train = x_train.reshape(x_train.shape[0], 28, 28, 1)\n",
        "x_test = x_test.reshape(x_test.shape[0], 28, 28, 1)\n",
        "input_shape = (28, 28, 1)\n",
        "# Making sure that the values are float so that we can get decimal points after division\n",
        "x_train = x_train.astype('float32')\n",
        "x_test = x_test.astype('float32')\n",
        "# Normalizing the RGB codes by dividing it to the max RGB value.\n",
        "x_train /= 255\n",
        "x_test /= 255"
      ],
      "metadata": {
        "id": "l2lyniQNP6YK"
      },
      "execution_count": 12,
      "outputs": []
    },
    {
      "cell_type": "code",
      "source": [
        "# Importing the required Keras modules containing model and layers\n",
        "from tensorflow.keras.models import Sequential\n",
        "from tensorflow.keras.layers import Dense, Conv2D, Dropout, Flatten, MaxPooling2D\n",
        "# Creating a Sequential Model and adding the layers\n",
        "model = Sequential()\n",
        "model.add(Conv2D(28, kernel_size=(3,3), input_shape=input_shape))\n",
        "model.add(MaxPooling2D(pool_size=(2, 2)))\n",
        "model.add(Flatten()) # Flattening the 2D arrays for fully connected layers\n",
        "model.add(Dense(128, activation=tf.nn.relu))\n",
        "model.add(Dropout(0.2))\n",
        "model.add(Dense(10,activation=tf.nn.softmax))"
      ],
      "metadata": {
        "id": "fVYoUojSQej2"
      },
      "execution_count": 13,
      "outputs": []
    },
    {
      "cell_type": "code",
      "source": [
        "model.compile(optimizer='adam', loss='sparse_categorical_crossentropy', metrics=['accuracy'])\n",
        "history = model.fit(x=x_train, y=y_train, epochs=24)"
      ],
      "metadata": {
        "colab": {
          "base_uri": "https://localhost:8080/"
        },
        "id": "v4z-HcOIQne1",
        "outputId": "a9b50557-d418-4c92-bd78-0392e690552f"
      },
      "execution_count": 14,
      "outputs": [
        {
          "output_type": "stream",
          "name": "stdout",
          "text": [
            "Epoch 1/24\n",
            "1875/1875 [==============================] - 12s 3ms/step - loss: 0.2083 - accuracy: 0.9369\n",
            "Epoch 2/24\n",
            "1875/1875 [==============================] - 8s 4ms/step - loss: 0.0848 - accuracy: 0.9740\n",
            "Epoch 3/24\n",
            "1875/1875 [==============================] - 8s 4ms/step - loss: 0.0580 - accuracy: 0.9818\n",
            "Epoch 4/24\n",
            "1875/1875 [==============================] - 7s 4ms/step - loss: 0.0457 - accuracy: 0.9856\n",
            "Epoch 5/24\n",
            "1875/1875 [==============================] - 6s 3ms/step - loss: 0.0352 - accuracy: 0.9879\n",
            "Epoch 6/24\n",
            "1875/1875 [==============================] - 6s 3ms/step - loss: 0.0306 - accuracy: 0.9895\n",
            "Epoch 7/24\n",
            "1875/1875 [==============================] - 6s 3ms/step - loss: 0.0236 - accuracy: 0.9922\n",
            "Epoch 8/24\n",
            "1875/1875 [==============================] - 8s 4ms/step - loss: 0.0214 - accuracy: 0.9927\n",
            "Epoch 9/24\n",
            "1875/1875 [==============================] - 7s 4ms/step - loss: 0.0183 - accuracy: 0.9934\n",
            "Epoch 10/24\n",
            "1875/1875 [==============================] - 6s 3ms/step - loss: 0.0173 - accuracy: 0.9936\n",
            "Epoch 11/24\n",
            "1875/1875 [==============================] - 6s 3ms/step - loss: 0.0175 - accuracy: 0.9939\n",
            "Epoch 12/24\n",
            "1875/1875 [==============================] - 6s 3ms/step - loss: 0.0160 - accuracy: 0.9947\n",
            "Epoch 13/24\n",
            "1875/1875 [==============================] - 9s 5ms/step - loss: 0.0145 - accuracy: 0.9951\n",
            "Epoch 14/24\n",
            "1875/1875 [==============================] - 8s 4ms/step - loss: 0.0128 - accuracy: 0.9955\n",
            "Epoch 15/24\n",
            "1875/1875 [==============================] - 6s 3ms/step - loss: 0.0119 - accuracy: 0.9961\n",
            "Epoch 16/24\n",
            "1875/1875 [==============================] - 7s 4ms/step - loss: 0.0128 - accuracy: 0.9957\n",
            "Epoch 17/24\n",
            "1875/1875 [==============================] - 6s 3ms/step - loss: 0.0096 - accuracy: 0.9968\n",
            "Epoch 18/24\n",
            "1875/1875 [==============================] - 6s 3ms/step - loss: 0.0123 - accuracy: 0.9961\n",
            "Epoch 19/24\n",
            "1875/1875 [==============================] - 7s 4ms/step - loss: 0.0136 - accuracy: 0.9955\n",
            "Epoch 20/24\n",
            "1875/1875 [==============================] - 6s 3ms/step - loss: 0.0112 - accuracy: 0.9963\n",
            "Epoch 21/24\n",
            "1875/1875 [==============================] - 6s 3ms/step - loss: 0.0092 - accuracy: 0.9971\n",
            "Epoch 22/24\n",
            "1875/1875 [==============================] - 6s 3ms/step - loss: 0.0102 - accuracy: 0.9966\n",
            "Epoch 23/24\n",
            "1875/1875 [==============================] - 6s 3ms/step - loss: 0.0094 - accuracy: 0.9968\n",
            "Epoch 24/24\n",
            "1875/1875 [==============================] - 6s 3ms/step - loss: 0.0112 - accuracy: 0.9963\n"
          ]
        }
      ]
    },
    {
      "cell_type": "code",
      "source": [
        "model.evaluate(x_test, y_test)"
      ],
      "metadata": {
        "colab": {
          "base_uri": "https://localhost:8080/"
        },
        "id": "JclkprG5QvL1",
        "outputId": "e6867501-812e-4cdf-ce81-5aa4ee7429d0"
      },
      "execution_count": 15,
      "outputs": [
        {
          "output_type": "stream",
          "name": "stdout",
          "text": [
            "313/313 [==============================] - 1s 2ms/step - loss: 0.1020 - accuracy: 0.9822\n"
          ]
        },
        {
          "output_type": "execute_result",
          "data": {
            "text/plain": [
              "[0.10204664617776871, 0.982200026512146]"
            ]
          },
          "metadata": {},
          "execution_count": 15
        }
      ]
    },
    {
      "cell_type": "code",
      "source": [
        "predictions = np.argmax(model.predict(x_test), axis=1)\n",
        "\n",
        "fig, axes = plt.subplots(ncols=10, sharex=False, sharey=True, figsize=(20, 4))\n",
        "\n",
        "for i in range(10):\n",
        "    axes[i].set_title(predictions[i])\n",
        "    axes[i].imshow(x_test[i], cmap='gray')\n",
        "    axes[i].get_xaxis().set_visible(False)\n",
        "    axes[i].get_yaxis().set_visible(False)\n",
        "plt.show()"
      ],
      "metadata": {
        "colab": {
          "base_uri": "https://localhost:8080/",
          "height": 159
        },
        "id": "ic-53y6IRMHO",
        "outputId": "4347e4e1-a1b1-4201-8626-d759f7dd3a26"
      },
      "execution_count": 16,
      "outputs": [
        {
          "output_type": "stream",
          "name": "stdout",
          "text": [
            "313/313 [==============================] - 1s 1ms/step\n"
          ]
        },
        {
          "output_type": "display_data",
          "data": {
            "text/plain": [
              "<Figure size 2000x400 with 10 Axes>"
            ],
            "image/png": "[encoded data removed]"
          },
          "metadata": {}
        }
      ]
    },
    {
      "cell_type": "code",
      "source": [
        "acc2 = history.history['accuracy']\n",
        "loss = history.history['loss']"
      ],
      "metadata": {
        "id": "dkhXpXLdmj4c"
      },
      "execution_count": 17,
      "outputs": []
    },
    {
      "cell_type": "code",
      "source": [
        "epochs = range(1, len(acc2) + 1)\n",
        "\n",
        "plt.plot(epochs, acc2, label='Training acc')\n",
        "plt.plot(epochs, loss, label='Training loss')\n",
        "plt.title('Accuracy and Loss for Training')\n",
        "plt.xlabel('epoch')\n",
        "plt.legend()\n",
        "\n",
        "plt.show()"
      ],
      "metadata": {
        "colab": {
          "base_uri": "https://localhost:8080/",
          "height": 472
        },
        "id": "at-giF70mkOY",
        "outputId": "fac7b49b-c89d-4db2-865e-0291082d8767"
      },
      "execution_count": 18,
      "outputs": [
        {
          "output_type": "display_data",
          "data": {
            "text/plain": [
              "<Figure size 640x480 with 1 Axes>"
            ],
            "image/png": "[encoded data removed]"
          },
          "metadata": {}
        }
      ]
    },
    {
      "cell_type": "markdown",
      "source": [
        "# Model 3: Logistic Regression"
      ],
      "metadata": {
        "id": "hEWFhI_PSpvN"
      }
    },
    {
      "cell_type": "code",
      "source": [
        "import torch\n",
        "import torch.nn as nn\n",
        "import torch.utils.data as Data\n",
        "import torchvision"
      ],
      "metadata": {
        "id": "0yCB1a4RRSX-"
      },
      "execution_count": 19,
      "outputs": []
    },
    {
      "cell_type": "code",
      "source": [
        "EPOCH = 24               # train the training data n times, to save time, we just train 1 epoch\n",
        "BATCH_SIZE = 50\n",
        "LR = 0.001              # learning rate\n",
        "DOWNLOAD_MNIST = False"
      ],
      "metadata": {
        "id": "rIq_88eiSx8l"
      },
      "execution_count": 20,
      "outputs": []
    },
    {
      "cell_type": "code",
      "source": [
        "DOWNLOAD_MNIST = True\n",
        "\n",
        "train_data = torchvision.datasets.MNIST(\n",
        "    root='./mnist/',\n",
        "    train=True,                                     # this is training data\n",
        "    transform=torchvision.transforms.ToTensor(),    # Converts a PIL.Image or numpy.ndarray to\n",
        "                                                    # torch.FloatTensor of shape (C x H x W) and normalize in the range [0.0, 1.0]\n",
        "    download=DOWNLOAD_MNIST,\n",
        ")"
      ],
      "metadata": {
        "id": "hOcOe8eCSuNj",
        "colab": {
          "base_uri": "https://localhost:8080/"
        },
        "outputId": "e3429924-e367-490d-a279-00ab2f57f528"
      },
      "execution_count": 21,
      "outputs": [
        {
          "output_type": "stream",
          "name": "stdout",
          "text": [
            "Downloading http://yann.lecun.com/exdb/mnist/train-images-idx3-ubyte.gz\n",
            "Downloading http://yann.lecun.com/exdb/mnist/train-images-idx3-ubyte.gz to ./mnist/MNIST/raw/train-images-idx3-ubyte.gz\n"
          ]
        },
        {
          "output_type": "stream",
          "name": "stderr",
          "text": [
            "100%|██████████| 9912422/9912422 [00:00<00:00, 92904748.83it/s]\n"
          ]
        },
        {
          "output_type": "stream",
          "name": "stdout",
          "text": [
            "Extracting ./mnist/MNIST/raw/train-images-idx3-ubyte.gz to ./mnist/MNIST/raw\n",
            "\n",
            "Downloading http://yann.lecun.com/exdb/mnist/train-labels-idx1-ubyte.gz\n",
            "Downloading http://yann.lecun.com/exdb/mnist/train-labels-idx1-ubyte.gz to ./mnist/MNIST/raw/train-labels-idx1-ubyte.gz\n"
          ]
        },
        {
          "output_type": "stream",
          "name": "stderr",
          "text": [
            "100%|██████████| 28881/28881 [00:00<00:00, 43154860.64it/s]\n"
          ]
        },
        {
          "output_type": "stream",
          "name": "stdout",
          "text": [
            "Extracting ./mnist/MNIST/raw/train-labels-idx1-ubyte.gz to ./mnist/MNIST/raw\n",
            "\n",
            "Downloading http://yann.lecun.com/exdb/mnist/t10k-images-idx3-ubyte.gz\n",
            "Downloading http://yann.lecun.com/exdb/mnist/t10k-images-idx3-ubyte.gz to ./mnist/MNIST/raw/t10k-images-idx3-ubyte.gz\n"
          ]
        },
        {
          "output_type": "stream",
          "name": "stderr",
          "text": [
            "100%|██████████| 1648877/1648877 [00:00<00:00, 25608911.41it/s]\n"
          ]
        },
        {
          "output_type": "stream",
          "name": "stdout",
          "text": [
            "Extracting ./mnist/MNIST/raw/t10k-images-idx3-ubyte.gz to ./mnist/MNIST/raw\n",
            "\n",
            "Downloading http://yann.lecun.com/exdb/mnist/t10k-labels-idx1-ubyte.gz\n",
            "Downloading http://yann.lecun.com/exdb/mnist/t10k-labels-idx1-ubyte.gz to ./mnist/MNIST/raw/t10k-labels-idx1-ubyte.gz\n"
          ]
        },
        {
          "output_type": "stream",
          "name": "stderr",
          "text": [
            "100%|██████████| 4542/4542 [00:00<00:00, 8239848.08it/s]\n"
          ]
        },
        {
          "output_type": "stream",
          "name": "stdout",
          "text": [
            "Extracting ./mnist/MNIST/raw/t10k-labels-idx1-ubyte.gz to ./mnist/MNIST/raw\n",
            "\n"
          ]
        }
      ]
    },
    {
      "cell_type": "code",
      "source": [
        "# Data Loader for easy mini-batch return in training, the image batch shape will be (50, 1, 28, 28)\n",
        "train_loader = Data.DataLoader(dataset=train_data, batch_size=BATCH_SIZE, shuffle=True)"
      ],
      "metadata": {
        "id": "_jx_my69Svob"
      },
      "execution_count": 22,
      "outputs": []
    },
    {
      "cell_type": "code",
      "source": [
        "# pick 2000 samples to speed up testing\n",
        "test_data = torchvision.datasets.MNIST(root='./mnist/', train=False)\n",
        "test_x = torch.unsqueeze(test_data.test_data, dim=1).type(torch.FloatTensor)[:2000]/255.   # shape from (2000, 28, 28) to (2000, 1, 28, 28), value in range(0,1)\n",
        "test_y = test_data.test_labels[:2000]"
      ],
      "metadata": {
        "id": "XRHK8GUlS-0I",
        "colab": {
          "base_uri": "https://localhost:8080/"
        },
        "outputId": "143ba0f0-1b73-4f57-c06d-cd5b43cfe501"
      },
      "execution_count": 23,
      "outputs": [
        {
          "output_type": "stream",
          "name": "stderr",
          "text": [
            "/usr/local/lib/python3.10/dist-packages/torchvision/datasets/mnist.py:80: UserWarning: test_data has been renamed data\n",
            "  warnings.warn(\"test_data has been renamed data\")\n",
            "/usr/local/lib/python3.10/dist-packages/torchvision/datasets/mnist.py:70: UserWarning: test_labels has been renamed targets\n",
            "  warnings.warn(\"test_labels has been renamed targets\")\n"
          ]
        }
      ]
    },
    {
      "cell_type": "code",
      "source": [
        "class logisticRg(nn.Module):\n",
        "    def __init__(self):\n",
        "        super(logisticRg, self).__init__()\n",
        "        self.lr = nn.Sequential(\n",
        "            nn.Linear(28*28,10)\n",
        "        )\n",
        "\n",
        "    def forward(self, x):\n",
        "        output = self.lr(x)\n",
        "        return output, x    # return x for visualization\n",
        "\n",
        "\n",
        "lor = logisticRg()\n",
        "print(lor)  # net architecture"
      ],
      "metadata": {
        "colab": {
          "base_uri": "https://localhost:8080/"
        },
        "id": "R7T-UP70tyal",
        "outputId": "02f0c9df-88e6-428a-95cc-84bba8401e56"
      },
      "execution_count": 24,
      "outputs": [
        {
          "output_type": "stream",
          "name": "stdout",
          "text": [
            "logisticRg(\n",
            "  (lr): Sequential(\n",
            "    (0): Linear(in_features=784, out_features=10, bias=True)\n",
            "  )\n",
            ")\n"
          ]
        }
      ]
    },
    {
      "cell_type": "code",
      "source": [
        "optimizer = torch.optim.Adam(lor.parameters(), lr=LR)   # optimize all logistic parameters\n",
        "loss_func = nn.CrossEntropyLoss() "
      ],
      "metadata": {
        "id": "vlEgDTmdt0mK"
      },
      "execution_count": 25,
      "outputs": []
    },
    {
      "cell_type": "code",
      "source": [
        "acc3 = []\n",
        "l = []\n",
        "\n",
        "# training and testing\n",
        "for epoch in range(EPOCH):\n",
        "    for step, (b_x, b_y) in enumerate(train_loader):   # gives batch data, normalize x when iterate train_loader\n",
        "        # print(b_x.size())\n",
        "        b_x = b_x.view(-1, 28*28)\n",
        "        # print(b_x.size())\n",
        "\n",
        "        output = lor(b_x)[0]               # logistic output\n",
        "        loss = loss_func(output, b_y)   # cross entropy loss\n",
        "        optimizer.zero_grad()           # clear gradients for this training step\n",
        "        loss.backward()                 # backpropagation, compute gradients\n",
        "        optimizer.step()                # apply gradients\n",
        "\n",
        "        if step % BATCH_SIZE == 0:\n",
        "\n",
        "            test_output, last_layer = lor(test_x.view(-1,28*28))\n",
        "            pred_y = torch.max(test_output, 1)[1].data.numpy()\n",
        "            accuracy = float((pred_y == test_y.data.numpy()).astype(int).sum()) / float(test_y.size(0))\n",
        "    acc3.append(accuracy)\n",
        "    l.append(loss.data.numpy())\n",
        "    print('Epoch: ', epoch + 1, '| train loss: %.4f' % loss.data.numpy(), '| test accuracy: %.2f' % accuracy)"
      ],
      "metadata": {
        "colab": {
          "base_uri": "https://localhost:8080/"
        },
        "id": "M3iDzEtst3E6",
        "outputId": "61d7cb1a-c666-41a0-ea90-13b3a5a0cc19"
      },
      "execution_count": 26,
      "outputs": [
        {
          "output_type": "stream",
          "name": "stdout",
          "text": [
            "Epoch:  1 | train loss: 0.5768 | test accuracy: 0.89\n",
            "Epoch:  2 | train loss: 0.1404 | test accuracy: 0.89\n",
            "Epoch:  3 | train loss: 0.3409 | test accuracy: 0.90\n",
            "Epoch:  4 | train loss: 0.2683 | test accuracy: 0.90\n",
            "Epoch:  5 | train loss: 0.1330 | test accuracy: 0.90\n",
            "Epoch:  6 | train loss: 0.1350 | test accuracy: 0.90\n",
            "Epoch:  7 | train loss: 0.1626 | test accuracy: 0.90\n",
            "Epoch:  8 | train loss: 0.1396 | test accuracy: 0.91\n",
            "Epoch:  9 | train loss: 0.1657 | test accuracy: 0.90\n",
            "Epoch:  10 | train loss: 0.1547 | test accuracy: 0.91\n",
            "Epoch:  11 | train loss: 0.1823 | test accuracy: 0.90\n",
            "Epoch:  12 | train loss: 0.3694 | test accuracy: 0.91\n",
            "Epoch:  13 | train loss: 0.3662 | test accuracy: 0.90\n",
            "Epoch:  14 | train loss: 0.3485 | test accuracy: 0.91\n",
            "Epoch:  15 | train loss: 0.2002 | test accuracy: 0.91\n",
            "Epoch:  16 | train loss: 0.4143 | test accuracy: 0.91\n",
            "Epoch:  17 | train loss: 0.0463 | test accuracy: 0.91\n",
            "Epoch:  18 | train loss: 0.1958 | test accuracy: 0.90\n",
            "Epoch:  19 | train loss: 0.1589 | test accuracy: 0.90\n",
            "Epoch:  20 | train loss: 0.2505 | test accuracy: 0.91\n",
            "Epoch:  21 | train loss: 0.2467 | test accuracy: 0.90\n",
            "Epoch:  22 | train loss: 0.2556 | test accuracy: 0.91\n",
            "Epoch:  23 | train loss: 0.1428 | test accuracy: 0.91\n",
            "Epoch:  24 | train loss: 0.2445 | test accuracy: 0.90\n"
          ]
        }
      ]
    },
    {
      "cell_type": "code",
      "source": [
        "# print 10 predictions from test data\n",
        "test_output, _ = lor(test_x[:10].view(-1,28*28))\n",
        "pred_y = torch.max(test_output, 1)[1].data.numpy()\n",
        "print(pred_y, 'prediction number')\n",
        "print(test_y[:10].numpy(), 'real number')"
      ],
      "metadata": {
        "colab": {
          "base_uri": "https://localhost:8080/"
        },
        "id": "uTYTjtUIt4bS",
        "outputId": "9c1c3400-900a-4131-e4e2-a7571b6cc572"
      },
      "execution_count": 27,
      "outputs": [
        {
          "output_type": "stream",
          "name": "stdout",
          "text": [
            "[7 2 1 0 4 1 4 9 6 9] prediction number\n",
            "[7 2 1 0 4 1 4 9 5 9] real number\n"
          ]
        }
      ]
    },
    {
      "cell_type": "code",
      "source": [
        "epochs = range(1, len(acc3) + 1)\n",
        "\n",
        "plt.plot(epochs, acc3, label=\"Training acc\")\n",
        "plt.plot(epochs, l, label=\"Training loss\")\n",
        "plt.xlabel(\"epoch\")\n",
        "plt.title(\"Accuracy and Loss for Training\")\n",
        "plt.legend()\n",
        "plt.show()"
      ],
      "metadata": {
        "colab": {
          "base_uri": "https://localhost:8080/",
          "height": 472
        },
        "id": "y4qV9dFJomnU",
        "outputId": "46a7e85c-e729-46a5-a3bd-f4c1464656c3"
      },
      "execution_count": 28,
      "outputs": [
        {
          "output_type": "display_data",
          "data": {
            "text/plain": [
              "<Figure size 640x480 with 1 Axes>"
            ],
            "image/png": "[encoded data removed]"
          },
          "metadata": {}
        }
      ]
    },
    {
      "cell_type": "markdown",
      "source": [
        "# Model 4: K-Nearest Neighbours"
      ],
      "metadata": {
        "id": "tjyTCBoCuMju"
      }
    },
    {
      "cell_type": "code",
      "source": [
        "import torch\n",
        "import torch.nn as nn\n",
        "import torch.utils.data as Data\n",
        "import torchvision"
      ],
      "metadata": {
        "id": "ObvyQGpXt6Af"
      },
      "execution_count": 31,
      "outputs": []
    },
    {
      "cell_type": "code",
      "source": [
        "train_data = torchvision.datasets.MNIST(\n",
        "    root='./mnist/',\n",
        "    train=True,                                     # this is training data\n",
        "    transform=torchvision.transforms.ToTensor(),    # Converts a PIL.Image or numpy.ndarray to\n",
        "                                                    # torch.FloatTensor of shape (C x H x W) and normalize in the range [0.0, 1.0]\n",
        "    download=True,\n",
        ")"
      ],
      "metadata": {
        "id": "PA-MXdJLuVWx"
      },
      "execution_count": 32,
      "outputs": []
    },
    {
      "cell_type": "code",
      "source": [
        "# pick 2000 samples to speed up testing\n",
        "\n",
        "train_data = torchvision.datasets.MNIST(root='./mnist/', train=True)\n",
        "train_x = torch.unsqueeze(train_data.train_data, dim=1).type(torch.FloatTensor)[:60000]/255.   # shape from (2000, 28, 28) to (2000, 1, 28, 28), value in range(0,1)\n",
        "train_y = train_data.train_labels[:60000]"
      ],
      "metadata": {
        "colab": {
          "base_uri": "https://localhost:8080/"
        },
        "id": "xZ-OX5_UuX4t",
        "outputId": "887c9705-dbf8-4935-d340-ac8499f2e86a"
      },
      "execution_count": 33,
      "outputs": [
        {
          "output_type": "stream",
          "name": "stderr",
          "text": [
            "/usr/local/lib/python3.10/dist-packages/torchvision/datasets/mnist.py:75: UserWarning: train_data has been renamed data\n",
            "  warnings.warn(\"train_data has been renamed data\")\n",
            "/usr/local/lib/python3.10/dist-packages/torchvision/datasets/mnist.py:65: UserWarning: train_labels has been renamed targets\n",
            "  warnings.warn(\"train_labels has been renamed targets\")\n"
          ]
        }
      ]
    },
    {
      "cell_type": "code",
      "source": [
        "# pick 2000 samples to speed up testing\n",
        "test_data = torchvision.datasets.MNIST(root='./mnist/', train=False)\n",
        "test_x = torch.unsqueeze(test_data.test_data, dim=1).type(torch.FloatTensor)[:2000]/255.   # shape from (2000, 28, 28) to (2000, 1, 28, 28), value in range(0,1)\n",
        "test_y = test_data.test_labels[:2000]\n",
        "\n",
        "print(train_x.size(),train_y.size(),test_x.size(),test_y.size())"
      ],
      "metadata": {
        "colab": {
          "base_uri": "https://localhost:8080/"
        },
        "id": "yNUlyJ4GuaD2",
        "outputId": "1908ff3b-9a4c-46ac-df1c-e379dbbdfe91"
      },
      "execution_count": 34,
      "outputs": [
        {
          "output_type": "stream",
          "name": "stdout",
          "text": [
            "torch.Size([60000, 1, 28, 28]) torch.Size([60000]) torch.Size([2000, 1, 28, 28]) torch.Size([2000])\n"
          ]
        }
      ]
    },
    {
      "cell_type": "code",
      "source": [
        "train_x = train_x.view(-1,28*28)\n",
        "test_x = test_x.view(-1,28*28)"
      ],
      "metadata": {
        "id": "FJwa5JCCufov"
      },
      "execution_count": 35,
      "outputs": []
    },
    {
      "cell_type": "code",
      "source": [
        "# K-Nearest Neighbor Classification\n",
        "\n",
        "from sklearn.model_selection import train_test_split\n",
        "from sklearn.neighbors import KNeighborsClassifier\n",
        "from sklearn.metrics import classification_report\n",
        "from sklearn import datasets\n",
        "from skimage import exposure\n",
        "import numpy as np"
      ],
      "metadata": {
        "id": "OXVQRB_BugvA"
      },
      "execution_count": 36,
      "outputs": []
    },
    {
      "cell_type": "code",
      "source": [
        "trainData = np.array(train_x)\n",
        "testData = np.array(test_x)\n",
        "trainLabels = np.array(train_y)\n",
        "testLabels = np.array(test_y)\n",
        "valData = testData\n",
        "valLabels = testLabels"
      ],
      "metadata": {
        "id": "sOKbrxejukCK"
      },
      "execution_count": 37,
      "outputs": []
    },
    {
      "cell_type": "code",
      "source": [
        "# Checking sizes of each data split\n",
        "print(\"training data points: {}\".format(len(trainLabels)))\n",
        "print(\"validation data points: {}\".format(len(valLabels)))\n",
        "print(\"testing data points: {}\".format(len(testLabels)))"
      ],
      "metadata": {
        "colab": {
          "base_uri": "https://localhost:8080/"
        },
        "id": "HtaSzcz9uk-k",
        "outputId": "3da811da-3122-46de-8128-91f8885bcbf3"
      },
      "execution_count": 38,
      "outputs": [
        {
          "output_type": "stream",
          "name": "stdout",
          "text": [
            "training data points: 60000\n",
            "validation data points: 2000\n",
            "testing data points: 2000\n"
          ]
        }
      ]
    },
    {
      "cell_type": "code",
      "source": [
        "# initialize the values of k for our k-Nearest Neighbor classifier along with the\n",
        "# list of accuracies for each value of k\n",
        "kVals = range(1, 30, 2)\n",
        "acc4 = []"
      ],
      "metadata": {
        "id": "2pxANoWxulq6"
      },
      "execution_count": 39,
      "outputs": []
    },
    {
      "cell_type": "code",
      "source": [
        "# loop over kVals\n",
        "for k in range(1, 30, 2):\n",
        "    # train the classifier with the current value of `k`\n",
        "    model = KNeighborsClassifier(n_neighbors=k)\n",
        "    model.fit(trainData, trainLabels)\n",
        "\n",
        "    # evaluate the model and print the accuracies list\n",
        "    score = model.score(valData, valLabels)\n",
        "    print(\"k=%d, accuracy=%.2f%%\" % (k, score * 100))\n",
        "    acc4.append(score)"
      ],
      "metadata": {
        "colab": {
          "base_uri": "https://localhost:8080/"
        },
        "id": "M7hFbragumoC",
        "outputId": "1aa42c02-91a0-4713-ba70-e4a5f934cd99"
      },
      "execution_count": 40,
      "outputs": [
        {
          "output_type": "stream",
          "name": "stdout",
          "text": [
            "k=1, accuracy=96.00%\n",
            "k=3, accuracy=95.80%\n",
            "k=5, accuracy=95.65%\n",
            "k=7, accuracy=95.65%\n",
            "k=9, accuracy=95.00%\n",
            "k=11, accuracy=95.05%\n",
            "k=13, accuracy=94.85%\n",
            "k=15, accuracy=94.50%\n",
            "k=17, accuracy=94.80%\n",
            "k=19, accuracy=94.85%\n",
            "k=21, accuracy=94.70%\n",
            "k=23, accuracy=94.60%\n",
            "k=25, accuracy=94.35%\n",
            "k=27, accuracy=94.30%\n",
            "k=29, accuracy=94.05%\n"
          ]
        }
      ]
    },
    {
      "cell_type": "code",
      "source": [
        "kVals = np.array([i for i in range(1, 30, 2)])\n",
        "\n",
        "plt.plot(kVals, acc4)\n",
        "plt.title(\"Training accuracy for different k values\")\n",
        "plt.xlabel(\"k\")\n",
        "plt.show()"
      ],
      "metadata": {
        "colab": {
          "base_uri": "https://localhost:8080/",
          "height": 472
        },
        "id": "6YfQ4e-fpPzd",
        "outputId": "6c547dbe-5fba-4b08-9488-d535aebee0c9"
      },
      "execution_count": 41,
      "outputs": [
        {
          "output_type": "display_data",
          "data": {
            "text/plain": [
              "<Figure size 640x480 with 1 Axes>"
            ],
            "image/png": "[encoded data removed]"
          },
          "metadata": {}
        }
      ]
    },
    {
      "cell_type": "code",
      "source": [
        "# largest accuracy\n",
        "# np.argmax returns the indices of the maximum values along an axis\n",
        "i = np.argmax(acc4)\n",
        "print(\"k=%d achieved highest accuracy of %.2f%% on validation data\" % (kVals[i], acc4[i] * 100))"
      ],
      "metadata": {
        "colab": {
          "base_uri": "https://localhost:8080/"
        },
        "id": "VUe0vHcounlH",
        "outputId": "53b84fd2-811e-4ae6-a6b0-dd41127e037c"
      },
      "execution_count": 42,
      "outputs": [
        {
          "output_type": "stream",
          "name": "stdout",
          "text": [
            "k=1 achieved highest accuracy of 96.00% on validation data\n"
          ]
        }
      ]
    },
    {
      "cell_type": "code",
      "source": [
        "# Now that I know the best value of k, re-train the classifier\n",
        "model = KNeighborsClassifier(n_neighbors=kVals[i])\n",
        "model.fit(trainData, trainLabels)"
      ],
      "metadata": {
        "colab": {
          "base_uri": "https://localhost:8080/",
          "height": 74
        },
        "id": "AlDDN65puonE",
        "outputId": "21a0d8d5-66a9-45af-9f08-431327fb7cb5"
      },
      "execution_count": 43,
      "outputs": [
        {
          "output_type": "execute_result",
          "data": {
            "text/plain": [
              "KNeighborsClassifier(n_neighbors=1)"
            ],
            "text/html": [
              "<style>#sk-container-id-1 {color: black;background-color: white;}#sk-container-id-1 pre{padding: 0;}#sk-container-id-1 div.sk-toggleable {background-color: white;}#sk-container-id-1 label.sk-toggleable__label {cursor: pointer;display: block;width: 100%;margin-bottom: 0;padding: 0.3em;box-sizing: border-box;text-align: center;}#sk-container-id-1 label.sk-toggleable__label-arrow:before {content: \"▸\";float: left;margin-right: 0.25em;color: #696969;}#sk-container-id-1 label.sk-toggleable__label-arrow:hover:before {color: black;}#sk-container-id-1 div.sk-estimator:hover label.sk-toggleable__label-arrow:before {color: black;}#sk-container-id-1 div.sk-toggleable__content {max-height: 0;max-width: 0;overflow: hidden;text-align: left;background-color: #f0f8ff;}#sk-container-id-1 div.sk-toggleable__content pre {margin: 0.2em;color: black;border-radius: 0.25em;background-color: #f0f8ff;}#sk-container-id-1 input.sk-toggleable__control:checked~div.sk-toggleable__content {max-height: 200px;max-width: 100%;overflow: auto;}#sk-container-id-1 input.sk-toggleable__control:checked~label.sk-toggleable__label-arrow:before {content: \"▾\";}#sk-container-id-1 div.sk-estimator input.sk-toggleable__control:checked~label.sk-toggleable__label {background-color: #d4ebff;}#sk-container-id-1 div.sk-label input.sk-toggleable__control:checked~label.sk-toggleable__label {background-color: #d4ebff;}#sk-container-id-1 input.sk-hidden--visually {border: 0;clip: rect(1px 1px 1px 1px);clip: rect(1px, 1px, 1px, 1px);height: 1px;margin: -1px;overflow: hidden;padding: 0;position: absolute;width: 1px;}#sk-container-id-1 div.sk-estimator {font-family: monospace;background-color: #f0f8ff;border: 1px dotted black;border-radius: 0.25em;box-sizing: border-box;margin-bottom: 0.5em;}#sk-container-id-1 div.sk-estimator:hover {background-color: #d4ebff;}#sk-container-id-1 div.sk-parallel-item::after {content: \"\";width: 100%;border-bottom: 1px solid gray;flex-grow: 1;}#sk-container-id-1 div.sk-label:hover label.sk-toggleable__label {background-color: #d4ebff;}#sk-container-id-1 div.sk-serial::before {content: \"\";position: absolute;border-left: 1px solid gray;box-sizing: border-box;top: 0;bottom: 0;left: 50%;z-index: 0;}#sk-container-id-1 div.sk-serial {display: flex;flex-direction: column;align-items: center;background-color: white;padding-right: 0.2em;padding-left: 0.2em;position: relative;}#sk-container-id-1 div.sk-item {position: relative;z-index: 1;}#sk-container-id-1 div.sk-parallel {display: flex;align-items: stretch;justify-content: center;background-color: white;position: relative;}#sk-container-id-1 div.sk-item::before, #sk-container-id-1 div.sk-parallel-item::before {content: \"\";position: absolute;border-left: 1px solid gray;box-sizing: border-box;top: 0;bottom: 0;left: 50%;z-index: -1;}#sk-container-id-1 div.sk-parallel-item {display: flex;flex-direction: column;z-index: 1;position: relative;background-color: white;}#sk-container-id-1 div.sk-parallel-item:first-child::after {align-self: flex-end;width: 50%;}#sk-container-id-1 div.sk-parallel-item:last-child::after {align-self: flex-start;width: 50%;}#sk-container-id-1 div.sk-parallel-item:only-child::after {width: 0;}#sk-container-id-1 div.sk-dashed-wrapped {border: 1px dashed gray;margin: 0 0.4em 0.5em 0.4em;box-sizing: border-box;padding-bottom: 0.4em;background-color: white;}#sk-container-id-1 div.sk-label label {font-family: monospace;font-weight: bold;display: inline-block;line-height: 1.2em;}#sk-container-id-1 div.sk-label-container {text-align: center;}#sk-container-id-1 div.sk-container {/* jupyter's `normalize.less` sets `[hidden] { display: none; }` but bootstrap.min.css set `[hidden] { display: none !important; }` so we also need the `!important` here to be able to override the default hidden behavior on the sphinx rendered scikit-learn.org. See: https://github.com/scikit-learn/scikit-learn/issues/21755 */display: inline-block !important;position: relative;}#sk-container-id-1 div.sk-text-repr-fallback {display: none;}</style><div id=\"sk-container-id-1\" class=\"sk-top-container\"><div class=\"sk-text-repr-fallback\"><pre>KNeighborsClassifier(n_neighbors=1)</pre><b>In a Jupyter environment, please rerun this cell to show the HTML representation or trust the notebook. <br />On GitHub, the HTML representation is unable to render, please try loading this page with nbviewer.org.</b></div><div class=\"sk-container\" hidden><div class=\"sk-item\"><div class=\"sk-estimator sk-toggleable\"><input class=\"sk-toggleable__control sk-hidden--visually\" id=\"sk-estimator-id-1\" type=\"checkbox\" checked><label for=\"sk-estimator-id-1\" class=\"sk-toggleable__label sk-toggleable__label-arrow\">KNeighborsClassifier</label><div class=\"sk-toggleable__content\"><pre>KNeighborsClassifier(n_neighbors=1)</pre></div></div></div></div></div>"
            ]
          },
          "metadata": {},
          "execution_count": 43
        }
      ]
    },
    {
      "cell_type": "code",
      "source": [
        "# Predict labels for the test set\n",
        "predictions = model.predict(testData)"
      ],
      "metadata": {
        "id": "34xH2Dh5upYZ"
      },
      "execution_count": 44,
      "outputs": []
    },
    {
      "cell_type": "code",
      "source": [
        "# Evaluate performance of model for each of the digits\n",
        "print(\"EVALUATION ON TESTING DATA\")\n",
        "print(classification_report(testLabels, predictions))"
      ],
      "metadata": {
        "colab": {
          "base_uri": "https://localhost:8080/"
        },
        "id": "WIj-2ipDuqWa",
        "outputId": "32024db0-dc87-43d6-a268-bb62187742bc"
      },
      "execution_count": 45,
      "outputs": [
        {
          "output_type": "stream",
          "name": "stdout",
          "text": [
            "EVALUATION ON TESTING DATA\n",
            "              precision    recall  f1-score   support\n",
            "\n",
            "           0       0.97      0.99      0.98       175\n",
            "           1       0.97      0.99      0.98       234\n",
            "           2       0.99      0.96      0.97       219\n",
            "           3       0.94      0.96      0.95       207\n",
            "           4       0.96      0.95      0.96       217\n",
            "           5       0.93      0.96      0.95       179\n",
            "           6       0.98      0.98      0.98       178\n",
            "           7       0.94      0.94      0.94       205\n",
            "           8       0.98      0.92      0.95       192\n",
            "           9       0.94      0.94      0.94       194\n",
            "\n",
            "    accuracy                           0.96      2000\n",
            "   macro avg       0.96      0.96      0.96      2000\n",
            "weighted avg       0.96      0.96      0.96      2000\n",
            "\n"
          ]
        }
      ]
    },
    {
      "cell_type": "markdown",
      "source": [
        "# Model 5: Multi Layer Perceptron"
      ],
      "metadata": {
        "id": "PquZsCs9u9PU"
      }
    },
    {
      "cell_type": "code",
      "source": [
        "# Hyper Parameters\n",
        "EPOCH = 24            # train the training data n times, to save time, we just train 1 epoch\n",
        "BATCH_SIZE = 50\n",
        "LR = 0.001              # learning rate"
      ],
      "metadata": {
        "id": "B5-aFacjv2y_"
      },
      "execution_count": 46,
      "outputs": []
    },
    {
      "cell_type": "code",
      "source": [
        "train_data = torchvision.datasets.MNIST(\n",
        "    root='./mnist/',\n",
        "    train=True,                                     # this is training data\n",
        "    transform=torchvision.transforms.ToTensor(),    # Converts a PIL.Image or numpy.ndarray to\n",
        "                                                    # torch.FloatTensor of shape (C x H x W) and normalize in the range [0.0, 1.0]\n",
        "    download=True,\n",
        ")"
      ],
      "metadata": {
        "id": "1FePRnF5xjUJ"
      },
      "execution_count": 47,
      "outputs": []
    },
    {
      "cell_type": "code",
      "source": [
        "# Data Loader for easy mini-batch return in training, the image batch shape will be (50, 1, 28, 28)\n",
        "train_loader = Data.DataLoader(dataset=train_data, batch_size=BATCH_SIZE, shuffle=True)"
      ],
      "metadata": {
        "id": "2Q4KivyLurI3"
      },
      "execution_count": 48,
      "outputs": []
    },
    {
      "cell_type": "code",
      "source": [
        "# pick 2000 samples to speed up testing\n",
        "test_data = torchvision.datasets.MNIST(root='./mnist/', train=False)\n",
        "test_x = torch.unsqueeze(test_data.test_data, dim=1).type(torch.FloatTensor)[:2000]/255.   # shape from (2000, 28, 28) to (2000, 1, 28, 28), value in range(0,1)\n",
        "test_y = test_data.test_labels[:2000]"
      ],
      "metadata": {
        "colab": {
          "base_uri": "https://localhost:8080/"
        },
        "id": "08_piy3xv03y",
        "outputId": "1e29e784-666d-469a-af0a-8b97b6e446e9"
      },
      "execution_count": 49,
      "outputs": [
        {
          "output_type": "stream",
          "name": "stderr",
          "text": [
            "/usr/local/lib/python3.10/dist-packages/torchvision/datasets/mnist.py:80: UserWarning: test_data has been renamed data\n",
            "  warnings.warn(\"test_data has been renamed data\")\n",
            "/usr/local/lib/python3.10/dist-packages/torchvision/datasets/mnist.py:70: UserWarning: test_labels has been renamed targets\n",
            "  warnings.warn(\"test_labels has been renamed targets\")\n"
          ]
        }
      ]
    },
    {
      "cell_type": "code",
      "source": [
        "class MLP(nn.Module):\n",
        "    def __init__(self):\n",
        "        super(MLP, self).__init__()\n",
        "        self.mlp = nn.Sequential(\n",
        "            nn.Linear(28*28,28*28),\n",
        "            nn.Linear(28*28,10)\n",
        "        )\n",
        "\n",
        "    def forward(self, x):\n",
        "        output = self.mlp(x)\n",
        "        return output, x    # return x for visualization\n",
        "\n",
        "\n",
        "mlp = MLP()\n",
        "print(mlp)  # net architecture"
      ],
      "metadata": {
        "colab": {
          "base_uri": "https://localhost:8080/"
        },
        "id": "0aDRMBxNv7Hv",
        "outputId": "99a7e489-1932-4eaa-e5fc-ad7cd75821e1"
      },
      "execution_count": 50,
      "outputs": [
        {
          "output_type": "stream",
          "name": "stdout",
          "text": [
            "MLP(\n",
            "  (mlp): Sequential(\n",
            "    (0): Linear(in_features=784, out_features=784, bias=True)\n",
            "    (1): Linear(in_features=784, out_features=10, bias=True)\n",
            "  )\n",
            ")\n"
          ]
        }
      ]
    },
    {
      "cell_type": "code",
      "source": [
        "optimizer = torch.optim.Adam(mlp.parameters(), lr=LR)   # optimize all logistic parameters\n",
        "loss_func = nn.CrossEntropyLoss()                       # the target label is not one-hotted"
      ],
      "metadata": {
        "id": "5-L2jis2v9Vi"
      },
      "execution_count": 51,
      "outputs": []
    },
    {
      "cell_type": "code",
      "source": [
        "acc5 = []\n",
        "l = []\n",
        "\n",
        "# training and testing\n",
        "for epoch in range(EPOCH):\n",
        "    for step, (b_x, b_y) in enumerate(train_loader):   # gives batch data, normalize x when iterate train_loader\n",
        "        # print(b_x.size())\n",
        "        b_x = b_x.view(-1, 28*28)\n",
        "        # print(b_x.size())\n",
        "\n",
        "        output = mlp(b_x)[0]               # logistic output\n",
        "        loss = loss_func(output, b_y)   # cross entropy loss\n",
        "        optimizer.zero_grad()           # clear gradients for this training step\n",
        "        loss.backward()                 # backpropagation, compute gradients\n",
        "        optimizer.step()                # apply gradients\n",
        "\n",
        "        if step % BATCH_SIZE == 0:\n",
        "\n",
        "            test_output, last_layer = mlp(test_x.view(-1,28*28))\n",
        "            pred_y = torch.max(test_output, 1)[1].data.numpy()\n",
        "            accuracy = float((pred_y == test_y.data.numpy()).astype(int).sum()) / float(test_y.size(0))\n",
        "    acc5.append(accuracy)\n",
        "    l.append(loss.data.numpy())\n",
        "    print('Epoch: ', epoch + 1, '| train loss: %.4f' % loss.data.numpy(), '| test accuracy: %.2f' % accuracy)"
      ],
      "metadata": {
        "colab": {
          "base_uri": "https://localhost:8080/"
        },
        "id": "ZY1KJ61Mv-kh",
        "outputId": "e4f5e58f-7e6c-4b17-d5b2-809eebdbc0d9"
      },
      "execution_count": 52,
      "outputs": [
        {
          "output_type": "stream",
          "name": "stdout",
          "text": [
            "Epoch:  1 | train loss: 0.1271 | test accuracy: 0.90\n",
            "Epoch:  2 | train loss: 0.5547 | test accuracy: 0.89\n",
            "Epoch:  3 | train loss: 0.2384 | test accuracy: 0.90\n",
            "Epoch:  4 | train loss: 0.1121 | test accuracy: 0.89\n",
            "Epoch:  5 | train loss: 0.2209 | test accuracy: 0.90\n",
            "Epoch:  6 | train loss: 0.1815 | test accuracy: 0.90\n",
            "Epoch:  7 | train loss: 0.2834 | test accuracy: 0.90\n",
            "Epoch:  8 | train loss: 0.1785 | test accuracy: 0.90\n",
            "Epoch:  9 | train loss: 0.5244 | test accuracy: 0.89\n",
            "Epoch:  10 | train loss: 0.2059 | test accuracy: 0.90\n",
            "Epoch:  11 | train loss: 0.4586 | test accuracy: 0.90\n",
            "Epoch:  12 | train loss: 0.1847 | test accuracy: 0.90\n",
            "Epoch:  13 | train loss: 0.3224 | test accuracy: 0.90\n",
            "Epoch:  14 | train loss: 0.1116 | test accuracy: 0.89\n",
            "Epoch:  15 | train loss: 0.3814 | test accuracy: 0.90\n",
            "Epoch:  16 | train loss: 0.1413 | test accuracy: 0.90\n",
            "Epoch:  17 | train loss: 0.3365 | test accuracy: 0.89\n",
            "Epoch:  18 | train loss: 0.1905 | test accuracy: 0.90\n",
            "Epoch:  19 | train loss: 0.3864 | test accuracy: 0.90\n",
            "Epoch:  20 | train loss: 0.3703 | test accuracy: 0.90\n",
            "Epoch:  21 | train loss: 0.0536 | test accuracy: 0.90\n",
            "Epoch:  22 | train loss: 0.1646 | test accuracy: 0.90\n",
            "Epoch:  23 | train loss: 0.4809 | test accuracy: 0.90\n",
            "Epoch:  24 | train loss: 0.3052 | test accuracy: 0.90\n"
          ]
        }
      ]
    },
    {
      "cell_type": "code",
      "source": [
        "# print 10 predictions from test data\n",
        "test_output, _ = mlp(test_x[:10].view(-1,28*28))\n",
        "pred_y = torch.max(test_output, 1)[1].data.numpy()\n",
        "print(pred_y, 'prediction number')\n",
        "print(test_y[:10].numpy(), 'real number')"
      ],
      "metadata": {
        "colab": {
          "base_uri": "https://localhost:8080/"
        },
        "id": "nCRn8-8mv_Yl",
        "outputId": "b38d3ad4-90c8-487c-8a8a-533bf6429771"
      },
      "execution_count": 53,
      "outputs": [
        {
          "output_type": "stream",
          "name": "stdout",
          "text": [
            "[7 2 1 0 4 1 4 9 6 9] prediction number\n",
            "[7 2 1 0 4 1 4 9 5 9] real number\n"
          ]
        }
      ]
    },
    {
      "cell_type": "code",
      "source": [
        "epochs = range(1, len(acc5) + 1)\n",
        "\n",
        "plt.plot(epochs, acc5, label=\"Training acc\")\n",
        "plt.plot(epochs, l, label=\"Training loss\")\n",
        "plt.legend()\n",
        "plt.title(\"Accuracy and Loss during Training\")\n",
        "plt.show()"
      ],
      "metadata": {
        "colab": {
          "base_uri": "https://localhost:8080/",
          "height": 452
        },
        "id": "0-MTAycYqha2",
        "outputId": "b68282c4-327c-4605-bdaa-4520585ec87c"
      },
      "execution_count": 54,
      "outputs": [
        {
          "output_type": "display_data",
          "data": {
            "text/plain": [
              "<Figure size 640x480 with 1 Axes>"
            ],
            "image/png": "[encoded data removed]"
          },
          "metadata": {}
        }
      ]
    },
    {
      "cell_type": "markdown",
      "source": [
        "# Model 6: Recurrent Neural Network"
      ],
      "metadata": {
        "id": "R9yEa_HXxowc"
      }
    },
    {
      "cell_type": "code",
      "source": [
        "import torch\n",
        "from torch import nn\n",
        "import torchvision.datasets as dsets\n",
        "import torchvision.transforms as transforms"
      ],
      "metadata": {
        "id": "56BxGQGSwG1I"
      },
      "execution_count": 55,
      "outputs": []
    },
    {
      "cell_type": "code",
      "source": [
        "# Hyper Parameters\n",
        "EPOCH = 24              # train the training data n times, to save time, we just train 1 epoch\n",
        "BATCH_SIZE = 64\n",
        "TIME_STEP = 28          # rnn time step / image height\n",
        "INPUT_SIZE = 28         # rnn input size / image width\n",
        "LR = 0.01               # learning rate\n",
        "DOWNLOAD_MNIST = True   # set to True if haven't download the data"
      ],
      "metadata": {
        "id": "sJkP4htNxt-0"
      },
      "execution_count": 56,
      "outputs": []
    },
    {
      "cell_type": "code",
      "source": [
        "# Mnist digital dataset\n",
        "train_data = dsets.MNIST(\n",
        "    root='./mnist/',\n",
        "    train=True,                         # this is training data\n",
        "    transform=transforms.ToTensor(),    # Converts a PIL.Image or numpy.ndarray to\n",
        "                                        # torch.FloatTensor of shape (C x H x W) and normalize in the range [0.0, 1.0]\n",
        "    download=DOWNLOAD_MNIST,            # download it if you don't have it\n",
        ")"
      ],
      "metadata": {
        "id": "IUwtYF2Sxvaf"
      },
      "execution_count": 57,
      "outputs": []
    },
    {
      "cell_type": "code",
      "source": [
        "# Data Loader for easy mini-batch return in training\n",
        "train_loader = torch.utils.data.DataLoader(dataset=train_data, batch_size=BATCH_SIZE, shuffle=True)"
      ],
      "metadata": {
        "id": "I6ZDBZo2xwMj"
      },
      "execution_count": 58,
      "outputs": []
    },
    {
      "cell_type": "code",
      "source": [
        "# convert test data into Variable, pick 2000 samples to speed up testing\n",
        "test_data = dsets.MNIST(root='./mnist/', train=False, transform=transforms.ToTensor())\n",
        "test_x = test_data.test_data.type(torch.FloatTensor)[:2000]/255.   # shape (2000, 28, 28) value in range(0,1)\n",
        "test_y = test_data.test_labels.numpy()[:2000]    # covert to numpy array"
      ],
      "metadata": {
        "id": "SvZUM5Jyxxx8"
      },
      "execution_count": 59,
      "outputs": []
    },
    {
      "cell_type": "code",
      "source": [
        "class RNN(nn.Module):\n",
        "    def __init__(self):\n",
        "        super(RNN, self).__init__()\n",
        "\n",
        "        self.rnn = nn.LSTM(         # if use nn.RNN(), it hardly learns\n",
        "            input_size=INPUT_SIZE,\n",
        "            hidden_size=64,         # rnn hidden unit\n",
        "            num_layers=1,           # number of rnn layer\n",
        "            batch_first=True,       # input & output will has batch size as 1s dimension. e.g. (batch, time_step, input_size)\n",
        "        )\n",
        "\n",
        "        self.out = nn.Linear(64, 10)\n",
        "\n",
        "    def forward(self, x):\n",
        "        r_out, (h_n, h_c) = self.rnn(x, None)   # None represents zero initial hidden state\n",
        "\n",
        "        # choose r_out at the last time step\n",
        "        out = self.out(r_out[:, -1, :])\n",
        "        return out"
      ],
      "metadata": {
        "id": "oqqvbbsOxy9a"
      },
      "execution_count": 60,
      "outputs": []
    },
    {
      "cell_type": "code",
      "source": [
        "rnn = RNN()\n",
        "print(rnn)"
      ],
      "metadata": {
        "colab": {
          "base_uri": "https://localhost:8080/"
        },
        "id": "2KnUAoLHyOKg",
        "outputId": "17feba13-4020-45bd-f3bd-b80d860d1259"
      },
      "execution_count": 61,
      "outputs": [
        {
          "output_type": "stream",
          "name": "stdout",
          "text": [
            "RNN(\n",
            "  (rnn): LSTM(28, 64, batch_first=True)\n",
            "  (out): Linear(in_features=64, out_features=10, bias=True)\n",
            ")\n"
          ]
        }
      ]
    },
    {
      "cell_type": "code",
      "source": [
        "optimizer = torch.optim.Adam(rnn.parameters(), lr=LR)   # optimize all cnn parameters\n",
        "loss_func = nn.CrossEntropyLoss()                       # the target label is not one-hotted"
      ],
      "metadata": {
        "id": "XvoPFGjjyTWj"
      },
      "execution_count": 62,
      "outputs": []
    },
    {
      "cell_type": "code",
      "source": [
        "acc6 = []\n",
        "l = []\n",
        "\n",
        "# training and testing\n",
        "for epoch in range(EPOCH):\n",
        "    for step, (b_x, b_y) in enumerate(train_loader):        # gives batch data\n",
        "        b_x = b_x.view(-1, 28, 28)              # reshape x to (batch, time_step, input_size)\n",
        "\n",
        "        output = rnn(b_x)                               # rnn output\n",
        "        loss = loss_func(output, b_y)                   # cross entropy loss\n",
        "        optimizer.zero_grad()                           # clear gradients for this training step\n",
        "        loss.backward()                                 # backpropagation, compute gradients\n",
        "        optimizer.step()                                # apply gradients\n",
        "\n",
        "        if step % BATCH_SIZE == 0:\n",
        "            test_output = rnn(test_x)                   # (samples, time_step, input_size)\n",
        "            pred_y = torch.max(test_output, 1)[1].data.numpy()\n",
        "            accuracy = float((pred_y == test_y).astype(int).sum()) / float(test_y.size)\n",
        "    acc6.append(accuracy)\n",
        "    l.append(loss.data.numpy())\n",
        "    print('Epoch: ', epoch + 1, '| train loss: %.4f' % loss.data.numpy(), '| test accuracy: %.2f' % accuracy)"
      ],
      "metadata": {
        "colab": {
          "base_uri": "https://localhost:8080/"
        },
        "id": "n1Of-aI5yULQ",
        "outputId": "0e0b55de-8114-409e-d028-6ac20fd24bfa"
      },
      "execution_count": 63,
      "outputs": [
        {
          "output_type": "stream",
          "name": "stdout",
          "text": [
            "Epoch:  1 | train loss: 0.2433 | test accuracy: 0.94\n",
            "Epoch:  2 | train loss: 0.0612 | test accuracy: 0.96\n",
            "Epoch:  3 | train loss: 0.2354 | test accuracy: 0.96\n",
            "Epoch:  4 | train loss: 0.2716 | test accuracy: 0.96\n",
            "Epoch:  5 | train loss: 0.2359 | test accuracy: 0.97\n",
            "Epoch:  6 | train loss: 0.1049 | test accuracy: 0.98\n",
            "Epoch:  7 | train loss: 0.0439 | test accuracy: 0.96\n",
            "Epoch:  8 | train loss: 0.0194 | test accuracy: 0.97\n",
            "Epoch:  9 | train loss: 0.0050 | test accuracy: 0.97\n",
            "Epoch:  10 | train loss: 0.0483 | test accuracy: 0.97\n",
            "Epoch:  11 | train loss: 0.0449 | test accuracy: 0.98\n",
            "Epoch:  12 | train loss: 0.0459 | test accuracy: 0.97\n",
            "Epoch:  13 | train loss: 0.0577 | test accuracy: 0.96\n",
            "Epoch:  14 | train loss: 0.0913 | test accuracy: 0.97\n",
            "Epoch:  15 | train loss: 0.0137 | test accuracy: 0.97\n",
            "Epoch:  16 | train loss: 0.0361 | test accuracy: 0.97\n",
            "Epoch:  17 | train loss: 0.2605 | test accuracy: 0.97\n",
            "Epoch:  18 | train loss: 0.0067 | test accuracy: 0.97\n",
            "Epoch:  19 | train loss: 0.2294 | test accuracy: 0.96\n",
            "Epoch:  20 | train loss: 0.1081 | test accuracy: 0.96\n",
            "Epoch:  21 | train loss: 0.4715 | test accuracy: 0.96\n",
            "Epoch:  22 | train loss: 0.2176 | test accuracy: 0.85\n",
            "Epoch:  23 | train loss: 0.4290 | test accuracy: 0.91\n",
            "Epoch:  24 | train loss: 0.3583 | test accuracy: 0.85\n"
          ]
        }
      ]
    },
    {
      "cell_type": "code",
      "source": [
        "# print 10 predictions from test data\n",
        "test_output = rnn(test_x[:10].view(-1, 28, 28))\n",
        "pred_y = torch.max(test_output, 1)[1].data.numpy()\n",
        "print(pred_y, 'prediction number')\n",
        "print(test_y[:10], 'real number')"
      ],
      "metadata": {
        "colab": {
          "base_uri": "https://localhost:8080/"
        },
        "id": "dRSyDYfuyVNR",
        "outputId": "e9ebaeb9-2f01-40c2-a636-a4423270d7c2"
      },
      "execution_count": 64,
      "outputs": [
        {
          "output_type": "stream",
          "name": "stdout",
          "text": [
            "[7 2 1 0 4 1 4 4 8 9] prediction number\n",
            "[7 2 1 0 4 1 4 9 5 9] real number\n"
          ]
        }
      ]
    },
    {
      "cell_type": "code",
      "source": [
        "epochs = range(1, len(acc6) + 1)\n",
        "\n",
        "plt.plot(epochs, acc6, label=\"Training acc\")\n",
        "plt.plot(epochs, l, label=\"Training loss\")\n",
        "plt.legend()\n",
        "plt.title(\"Accuracy and Loss during Training\")\n",
        "plt.show()"
      ],
      "metadata": {
        "colab": {
          "base_uri": "https://localhost:8080/",
          "height": 452
        },
        "id": "fefP-tFPrK24",
        "outputId": "6753cb18-a6c4-478f-ee9c-84e709866ffb"
      },
      "execution_count": 65,
      "outputs": [
        {
          "output_type": "display_data",
          "data": {
            "text/plain": [
              "<Figure size 640x480 with 1 Axes>"
            ],
            "image/png": "[encoded data removed]"
          },
          "metadata": {}
        }
      ]
    },
    {
      "cell_type": "markdown",
      "source": [
        "# Model 7: Random Forest"
      ],
      "metadata": {
        "id": "bJa1NDuqya3S"
      }
    },
    {
      "cell_type": "code",
      "source": [
        "import tensorflow as tf\n",
        "(x, y), (X, Y) = tf.keras.datasets.mnist.load_data()\n",
        "\n",
        "import numpy as np # linear algebra"
      ],
      "metadata": {
        "id": "98pHVvBhyXjM"
      },
      "execution_count": 66,
      "outputs": []
    },
    {
      "cell_type": "code",
      "source": [
        "import matplotlib.pyplot as plt  # Graphics\n",
        "import seaborn as sns\n",
        "from sklearn.ensemble import RandomForestClassifier  # Random Forest algorithm\n",
        "from sklearn.model_selection import train_test_split\n",
        "from sklearn.metrics import classification_report, confusion_matrix\n",
        "from sklearn.model_selection import RandomizedSearchCV, GridSearchCV \n",
        "from sklearn.model_selection import cross_val_score\n",
        "# To show graphs within the notebook\n",
        "%matplotlib inline "
      ],
      "metadata": {
        "id": "iNOA-zjf3xWz"
      },
      "execution_count": 67,
      "outputs": []
    },
    {
      "cell_type": "code",
      "source": [
        "x = x.reshape(-1, 784)\n",
        "X = X.reshape(-1, 784)\n",
        "y = y.reshape(-1, 1)\n",
        "Y = Y.reshape(-1, 1)\n",
        "\n",
        "X_train, X_test, y_train, y_test = x, X, y, Y"
      ],
      "metadata": {
        "id": "xJJ3M8_z3yum"
      },
      "execution_count": 68,
      "outputs": []
    },
    {
      "cell_type": "code",
      "source": [
        "rf = RandomForestClassifier(n_estimators=100)\n",
        "rf.fit(X_train,y_train)"
      ],
      "metadata": {
        "colab": {
          "base_uri": "https://localhost:8080/",
          "height": 130
        },
        "id": "29VUDPpR3z82",
        "outputId": "22afa973-3f3c-40f0-f607-fc41fc78e493"
      },
      "execution_count": 69,
      "outputs": [
        {
          "output_type": "stream",
          "name": "stderr",
          "text": [
            "<ipython-input-69-ab278fdae7aa>:2: DataConversionWarning: A column-vector y was passed when a 1d array was expected. Please change the shape of y to (n_samples,), for example using ravel().\n",
            "  rf.fit(X_train,y_train)\n"
          ]
        },
        {
          "output_type": "execute_result",
          "data": {
            "text/plain": [
              "RandomForestClassifier()"
            ],
            "text/html": [
              "<style>#sk-container-id-2 {color: black;background-color: white;}#sk-container-id-2 pre{padding: 0;}#sk-container-id-2 div.sk-toggleable {background-color: white;}#sk-container-id-2 label.sk-toggleable__label {cursor: pointer;display: block;width: 100%;margin-bottom: 0;padding: 0.3em;box-sizing: border-box;text-align: center;}#sk-container-id-2 label.sk-toggleable__label-arrow:before {content: \"▸\";float: left;margin-right: 0.25em;color: #696969;}#sk-container-id-2 label.sk-toggleable__label-arrow:hover:before {color: black;}#sk-container-id-2 div.sk-estimator:hover label.sk-toggleable__label-arrow:before {color: black;}#sk-container-id-2 div.sk-toggleable__content {max-height: 0;max-width: 0;overflow: hidden;text-align: left;background-color: #f0f8ff;}#sk-container-id-2 div.sk-toggleable__content pre {margin: 0.2em;color: black;border-radius: 0.25em;background-color: #f0f8ff;}#sk-container-id-2 input.sk-toggleable__control:checked~div.sk-toggleable__content {max-height: 200px;max-width: 100%;overflow: auto;}#sk-container-id-2 input.sk-toggleable__control:checked~label.sk-toggleable__label-arrow:before {content: \"▾\";}#sk-container-id-2 div.sk-estimator input.sk-toggleable__control:checked~label.sk-toggleable__label {background-color: #d4ebff;}#sk-container-id-2 div.sk-label input.sk-toggleable__control:checked~label.sk-toggleable__label {background-color: #d4ebff;}#sk-container-id-2 input.sk-hidden--visually {border: 0;clip: rect(1px 1px 1px 1px);clip: rect(1px, 1px, 1px, 1px);height: 1px;margin: -1px;overflow: hidden;padding: 0;position: absolute;width: 1px;}#sk-container-id-2 div.sk-estimator {font-family: monospace;background-color: #f0f8ff;border: 1px dotted black;border-radius: 0.25em;box-sizing: border-box;margin-bottom: 0.5em;}#sk-container-id-2 div.sk-estimator:hover {background-color: #d4ebff;}#sk-container-id-2 div.sk-parallel-item::after {content: \"\";width: 100%;border-bottom: 1px solid gray;flex-grow: 1;}#sk-container-id-2 div.sk-label:hover label.sk-toggleable__label {background-color: #d4ebff;}#sk-container-id-2 div.sk-serial::before {content: \"\";position: absolute;border-left: 1px solid gray;box-sizing: border-box;top: 0;bottom: 0;left: 50%;z-index: 0;}#sk-container-id-2 div.sk-serial {display: flex;flex-direction: column;align-items: center;background-color: white;padding-right: 0.2em;padding-left: 0.2em;position: relative;}#sk-container-id-2 div.sk-item {position: relative;z-index: 1;}#sk-container-id-2 div.sk-parallel {display: flex;align-items: stretch;justify-content: center;background-color: white;position: relative;}#sk-container-id-2 div.sk-item::before, #sk-container-id-2 div.sk-parallel-item::before {content: \"\";position: absolute;border-left: 1px solid gray;box-sizing: border-box;top: 0;bottom: 0;left: 50%;z-index: -1;}#sk-container-id-2 div.sk-parallel-item {display: flex;flex-direction: column;z-index: 1;position: relative;background-color: white;}#sk-container-id-2 div.sk-parallel-item:first-child::after {align-self: flex-end;width: 50%;}#sk-container-id-2 div.sk-parallel-item:last-child::after {align-self: flex-start;width: 50%;}#sk-container-id-2 div.sk-parallel-item:only-child::after {width: 0;}#sk-container-id-2 div.sk-dashed-wrapped {border: 1px dashed gray;margin: 0 0.4em 0.5em 0.4em;box-sizing: border-box;padding-bottom: 0.4em;background-color: white;}#sk-container-id-2 div.sk-label label {font-family: monospace;font-weight: bold;display: inline-block;line-height: 1.2em;}#sk-container-id-2 div.sk-label-container {text-align: center;}#sk-container-id-2 div.sk-container {/* jupyter's `normalize.less` sets `[hidden] { display: none; }` but bootstrap.min.css set `[hidden] { display: none !important; }` so we also need the `!important` here to be able to override the default hidden behavior on the sphinx rendered scikit-learn.org. See: https://github.com/scikit-learn/scikit-learn/issues/21755 */display: inline-block !important;position: relative;}#sk-container-id-2 div.sk-text-repr-fallback {display: none;}</style><div id=\"sk-container-id-2\" class=\"sk-top-container\"><div class=\"sk-text-repr-fallback\"><pre>RandomForestClassifier()</pre><b>In a Jupyter environment, please rerun this cell to show the HTML representation or trust the notebook. <br />On GitHub, the HTML representation is unable to render, please try loading this page with nbviewer.org.</b></div><div class=\"sk-container\" hidden><div class=\"sk-item\"><div class=\"sk-estimator sk-toggleable\"><input class=\"sk-toggleable__control sk-hidden--visually\" id=\"sk-estimator-id-2\" type=\"checkbox\" checked><label for=\"sk-estimator-id-2\" class=\"sk-toggleable__label sk-toggleable__label-arrow\">RandomForestClassifier</label><div class=\"sk-toggleable__content\"><pre>RandomForestClassifier()</pre></div></div></div></div></div>"
            ]
          },
          "metadata": {},
          "execution_count": 69
        }
      ]
    },
    {
      "cell_type": "code",
      "source": [
        "pred = rf.predict(X_test)\n",
        "print(\"Classification Report\")\n",
        "print(classification_report(y_test, pred))\n",
        "print(\"Confusion Matrix\")\n",
        "print(confusion_matrix(y_test, pred))"
      ],
      "metadata": {
        "colab": {
          "base_uri": "https://localhost:8080/"
        },
        "id": "bwUIu77n31G5",
        "outputId": "a78cb56f-deee-4323-f7ee-80925632d130"
      },
      "execution_count": 70,
      "outputs": [
        {
          "output_type": "stream",
          "name": "stdout",
          "text": [
            "Classification Report\n",
            "              precision    recall  f1-score   support\n",
            "\n",
            "           0       0.97      0.99      0.98       980\n",
            "           1       0.99      0.99      0.99      1135\n",
            "           2       0.96      0.97      0.96      1032\n",
            "           3       0.96      0.96      0.96      1010\n",
            "           4       0.98      0.98      0.98       982\n",
            "           5       0.97      0.96      0.96       892\n",
            "           6       0.98      0.97      0.97       958\n",
            "           7       0.97      0.96      0.97      1028\n",
            "           8       0.96      0.96      0.96       974\n",
            "           9       0.96      0.95      0.95      1009\n",
            "\n",
            "    accuracy                           0.97     10000\n",
            "   macro avg       0.97      0.97      0.97     10000\n",
            "weighted avg       0.97      0.97      0.97     10000\n",
            "\n",
            "Confusion Matrix\n",
            "[[ 970    0    0    0    0    4    2    1    3    0]\n",
            " [   0 1125    3    3    0    1    1    0    1    1]\n",
            " [   6    0  999    5    3    0    3    9    7    0]\n",
            " [   0    0   11  974    0    5    1    8    8    3]\n",
            " [   1    0    1    0  958    0    5    0    2   15]\n",
            " [   3    1    0   14    3  854    6    3    4    4]\n",
            " [   8    3    1    0    3    8  932    0    3    0]\n",
            " [   1    2   20    1    0    0    0  989    3   12]\n",
            " [   5    0    4    6    4    6    3    3  933   10]\n",
            " [   6    5    1   10   10    6    1    4    4  962]]\n"
          ]
        }
      ]
    },
    {
      "cell_type": "markdown",
      "source": [
        "# Comparing the Different Models\n",
        "\n",
        "The following table shows the performance (accuracy) of each of the seven models.\n",
        "\n",
        "|Model|Accuracy|Loss|Epochs|Learning Rate|Optimizer|Loss Function|\n",
        "|---:|---:|---:|---:|---:|---:|---:|\n",
        "|Simple NN|0.8323|0.6211|24|0.001|adam|categorical_crossentropy|\n",
        "|Convolutional NN|0.9822|0.1020|24|0.001|adam|sparse_categorical_crossentropy|\n",
        "|Logistic Regression|0.9000|0.2445|24|0.001|adam|crossentropy|\n",
        "|K-Nearest Neighbours (k=1)|0.9600||||||\n",
        "|Multi Layer Perceptron|0.9000|0.3052|24|0.001|adam|crossentropy|\n",
        "|Recurrent NN|0.8500|0.3583|24|0.01|adam|crossentropy|\n",
        "|Random Forest|0.9700"
      ],
      "metadata": {
        "id": "qx26SSL-OM7L"
      }
    }
  ]
}